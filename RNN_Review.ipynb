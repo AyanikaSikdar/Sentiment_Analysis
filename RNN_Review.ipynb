{
  "nbformat": 4,
  "nbformat_minor": 0,
  "metadata": {
    "colab": {
      "provenance": []
    },
    "kernelspec": {
      "name": "python3",
      "display_name": "Python 3"
    },
    "language_info": {
      "name": "python"
    }
  },
  "cells": [
    {
      "cell_type": "code",
      "source": [
        "import tensorflow as tf\n",
        "from tensorflow.keras.preprocessing.text import Tokenizer\n",
        "from tensorflow.keras.preprocessing.sequence import pad_sequences\n",
        "from tensorflow.keras.models import Sequential\n",
        "from tensorflow.keras.layers import Embedding, LSTM, Dense, Dropout\n",
        "import pandas as pd\n",
        "import numpy as np\n",
        "import re\n",
        "import pickle"
      ],
      "metadata": {
        "id": "nHBvxPn70COt"
      },
      "execution_count": 25,
      "outputs": []
    },
    {
      "cell_type": "code",
      "source": [
        "# Load your datasets\n",
        "train = pd.read_csv('/content/IMDB_train_dataset.csv')\n",
        "test = pd.read_csv('/content/IMDB_test_dataset.csv')"
      ],
      "metadata": {
        "id": "nItpadh70s-m"
      },
      "execution_count": 26,
      "outputs": []
    },
    {
      "cell_type": "code",
      "source": [
        "train.isnull().sum()"
      ],
      "metadata": {
        "colab": {
          "base_uri": "https://localhost:8080/",
          "height": 0
        },
        "id": "K3t5cgvG0E6J",
        "outputId": "38d55547-6ef4-47a9-a98c-b838d6cc54c1"
      },
      "execution_count": 3,
      "outputs": [
        {
          "output_type": "execute_result",
          "data": {
            "text/plain": [
              "review       0\n",
              "sentiment    0\n",
              "dtype: int64"
            ]
          },
          "metadata": {},
          "execution_count": 3
        }
      ]
    },
    {
      "cell_type": "code",
      "source": [
        "test.isnull().sum()"
      ],
      "metadata": {
        "colab": {
          "base_uri": "https://localhost:8080/",
          "height": 0
        },
        "id": "Yi9n4-4IzCPu",
        "outputId": "1abf0663-b67a-4abb-b596-289a51c20737"
      },
      "execution_count": 4,
      "outputs": [
        {
          "output_type": "execute_result",
          "data": {
            "text/plain": [
              "review       0\n",
              "sentiment    0\n",
              "dtype: int64"
            ]
          },
          "metadata": {},
          "execution_count": 4
        }
      ]
    },
    {
      "cell_type": "code",
      "source": [
        "print(\"Train columns:\", train.columns)\n",
        "print(\"Test columns:\", test.columns)"
      ],
      "metadata": {
        "colab": {
          "base_uri": "https://localhost:8080/",
          "height": 0
        },
        "id": "em09tQrLzEt9",
        "outputId": "abfa10f9-4819-443c-df36-4553c8fecd85"
      },
      "execution_count": 5,
      "outputs": [
        {
          "output_type": "stream",
          "name": "stdout",
          "text": [
            "Train columns: Index(['review', 'sentiment'], dtype='object')\n",
            "Test columns: Index(['review', 'sentiment'], dtype='object')\n"
          ]
        }
      ]
    },
    {
      "cell_type": "code",
      "source": [
        "if 'review' in train.columns:\n",
        "    train.rename(columns={'review': 'content'}, inplace=True)\n",
        "if 'review' in test.columns:\n",
        "    test.rename(columns={'review': 'content'}, inplace=True)\n",
        "if 'sentiment' in train.columns:\n",
        "    train.rename(columns={'sentiment': 'sentiment'}, inplace=True)\n",
        "if 'sentiment' in test.columns:\n",
        "    test.rename(columns={'sentiment': 'sentiment'}, inplace=True)"
      ],
      "metadata": {
        "id": "gFutTCpeze09"
      },
      "execution_count": 6,
      "outputs": []
    },
    {
      "cell_type": "code",
      "source": [
        "print(\"Train columns:\", train.columns)\n",
        "print(\"Test columns:\", test.columns)"
      ],
      "metadata": {
        "colab": {
          "base_uri": "https://localhost:8080/",
          "height": 0
        },
        "id": "iF8DPyrnzqnS",
        "outputId": "cf43dfa2-0606-4f05-d111-9a896083730c"
      },
      "execution_count": 7,
      "outputs": [
        {
          "output_type": "stream",
          "name": "stdout",
          "text": [
            "Train columns: Index(['content', 'sentiment'], dtype='object')\n",
            "Test columns: Index(['content', 'sentiment'], dtype='object')\n"
          ]
        }
      ]
    },
    {
      "cell_type": "code",
      "source": [
        "def clean_text(text):\n",
        "    text = text.lower()\n",
        "    text = re.sub(r'[^a-zA-Z0-9\\s]', '', text)\n",
        "    return text"
      ],
      "metadata": {
        "id": "aKZhfSrPzpN9"
      },
      "execution_count": 8,
      "outputs": []
    },
    {
      "cell_type": "code",
      "source": [
        "# Apply text cleaning\n",
        "train['content'] = train['content'].apply(clean_text)\n",
        "test['content'] = test['content'].apply(clean_text)"
      ],
      "metadata": {
        "id": "fuLelNxe8Ybw"
      },
      "execution_count": 9,
      "outputs": []
    },
    {
      "cell_type": "code",
      "source": [
        "# Map sentiments to binary values\n",
        "sentiment_mapping = {'positive': 1, 'negative': 0}\n",
        "train['sentiment'] = train['sentiment'].map(sentiment_mapping)\n",
        "test['sentiment'] = test['sentiment'].map(sentiment_mapping)"
      ],
      "metadata": {
        "id": "NWEC5zvk8zK6"
      },
      "execution_count": 10,
      "outputs": []
    },
    {
      "cell_type": "code",
      "source": [
        "# Prepare text and labels\n",
        "X_train = train['content'].values\n",
        "y_train = train['sentiment'].values\n",
        "X_test = test['content'].values\n",
        "y_test = test['sentiment'].values"
      ],
      "metadata": {
        "id": "5r6Z1rTW7cFI"
      },
      "execution_count": 11,
      "outputs": []
    },
    {
      "cell_type": "code",
      "source": [
        "# Tokenize the text data\n",
        "max_words = 25000\n",
        "tokenizer = Tokenizer(num_words=max_words)\n",
        "tokenizer.fit_on_texts(X_train)"
      ],
      "metadata": {
        "id": "EKhFGu7-8965"
      },
      "execution_count": 12,
      "outputs": []
    },
    {
      "cell_type": "code",
      "source": [
        "# Convert text to sequences\n",
        "X_train_sequences = tokenizer.texts_to_sequences(X_train)\n",
        "X_test_sequences = tokenizer.texts_to_sequences(X_test)"
      ],
      "metadata": {
        "id": "wgneOEBb8-Vj"
      },
      "execution_count": 13,
      "outputs": []
    },
    {
      "cell_type": "code",
      "source": [
        "# Define max sequence length\n",
        "max_sequence_length = 100\n",
        "\n",
        "# Pad sequences\n",
        "X_train_padded = pad_sequences(X_train_sequences, maxlen=max_sequence_length, padding='post')\n",
        "X_test_padded = pad_sequences(X_test_sequences, maxlen=max_sequence_length, padding='post')\n"
      ],
      "metadata": {
        "id": "VJGXzLs89p1m"
      },
      "execution_count": 14,
      "outputs": []
    },
    {
      "cell_type": "code",
      "source": [
        "with open(\"tokenizer.pkl\", \"wb\") as handle:\n",
        "   pickle.dump(tokenizer, handle, protocol=pickle.HIGHEST_PROTOCOL)"
      ],
      "metadata": {
        "id": "pGPG2rry9xeZ"
      },
      "execution_count": 15,
      "outputs": []
    },
    {
      "cell_type": "code",
      "source": [
        "# Define the model\n",
        "embedding_dim = 100\n",
        "lstm_units = 64\n",
        "\n",
        "model = Sequential()\n",
        "model.add(Embedding(input_dim=max_words, output_dim=embedding_dim, input_length=max_sequence_length))\n",
        "model.add(LSTM(units=lstm_units))\n",
        "model.add(Dense(32, activation='relu'))\n",
        "model.add(Dropout(0.5))\n",
        "model.add(Dense(1, activation='sigmoid'))  # Output layer with binary classification"
      ],
      "metadata": {
        "id": "E5dIjNN2950f"
      },
      "execution_count": 16,
      "outputs": []
    },
    {
      "cell_type": "code",
      "source": [
        "# Compile the model\n",
        "model.compile(loss='binary_crossentropy', optimizer='adam', metrics=['accuracy'])\n",
        "model.summary()"
      ],
      "metadata": {
        "id": "if0GFnHI-kBI",
        "colab": {
          "base_uri": "https://localhost:8080/",
          "height": 0
        },
        "outputId": "b8f02e3c-84b6-4567-94fa-c0119f29b5a7"
      },
      "execution_count": 17,
      "outputs": [
        {
          "output_type": "stream",
          "name": "stdout",
          "text": [
            "Model: \"sequential\"\n",
            "_________________________________________________________________\n",
            " Layer (type)                Output Shape              Param #   \n",
            "=================================================================\n",
            " embedding (Embedding)       (None, 100, 100)          2500000   \n",
            "                                                                 \n",
            " lstm (LSTM)                 (None, 64)                42240     \n",
            "                                                                 \n",
            " dense (Dense)               (None, 32)                2080      \n",
            "                                                                 \n",
            " dropout (Dropout)           (None, 32)                0         \n",
            "                                                                 \n",
            " dense_1 (Dense)             (None, 1)                 33        \n",
            "                                                                 \n",
            "=================================================================\n",
            "Total params: 2544353 (9.71 MB)\n",
            "Trainable params: 2544353 (9.71 MB)\n",
            "Non-trainable params: 0 (0.00 Byte)\n",
            "_________________________________________________________________\n"
          ]
        }
      ]
    },
    {
      "cell_type": "code",
      "source": [
        "# Define checkpoint callback\n",
        "checkpoint_filepath = '/content/best_model.h5'\n",
        "model_checkpoint = tf.keras.callbacks.ModelCheckpoint(\n",
        "    filepath=checkpoint_filepath,\n",
        "    monitor='val_accuracy',\n",
        "    mode='max',\n",
        "    save_best_only=True\n",
        ")"
      ],
      "metadata": {
        "id": "twsKaWVw_wM0"
      },
      "execution_count": 18,
      "outputs": []
    },
    {
      "cell_type": "code",
      "source": [
        "# Train the model\n",
        "model.fit(\n",
        "    X_train_padded,        # Padded training data\n",
        "    y_train,               # Training labels\n",
        "    validation_data=(X_test_padded, y_test),  # Validation data\n",
        "    epochs=10,\n",
        "    batch_size=64,\n",
        "    callbacks=[model_checkpoint]\n",
        ")"
      ],
      "metadata": {
        "id": "A-ucMirh_440",
        "colab": {
          "base_uri": "https://localhost:8080/",
          "height": 0
        },
        "outputId": "19444524-d165-41f7-855b-8d93018fb991"
      },
      "execution_count": 27,
      "outputs": [
        {
          "output_type": "stream",
          "name": "stdout",
          "text": [
            "Epoch 1/10\n",
            "625/625 [==============================] - 131s 207ms/step - loss: 0.1577 - accuracy: 0.9443 - val_loss: 0.4067 - val_accuracy: 0.8450\n",
            "Epoch 2/10\n",
            "625/625 [==============================] - 117s 186ms/step - loss: 0.1047 - accuracy: 0.9651 - val_loss: 0.4435 - val_accuracy: 0.8594\n",
            "Epoch 3/10\n",
            "625/625 [==============================] - 117s 187ms/step - loss: 0.0877 - accuracy: 0.9720 - val_loss: 0.6043 - val_accuracy: 0.8526\n",
            "Epoch 4/10\n",
            "625/625 [==============================] - 118s 188ms/step - loss: 0.0563 - accuracy: 0.9814 - val_loss: 0.7357 - val_accuracy: 0.8547\n",
            "Epoch 5/10\n",
            "625/625 [==============================] - 125s 200ms/step - loss: 0.0387 - accuracy: 0.9883 - val_loss: 0.7044 - val_accuracy: 0.8524\n",
            "Epoch 6/10\n",
            "625/625 [==============================] - 124s 198ms/step - loss: 0.0373 - accuracy: 0.9883 - val_loss: 0.6681 - val_accuracy: 0.8472\n",
            "Epoch 7/10\n",
            "625/625 [==============================] - 125s 200ms/step - loss: 0.0323 - accuracy: 0.9906 - val_loss: 0.8580 - val_accuracy: 0.8518\n",
            "Epoch 8/10\n",
            "625/625 [==============================] - 123s 197ms/step - loss: 0.0200 - accuracy: 0.9946 - val_loss: 0.8108 - val_accuracy: 0.8455\n",
            "Epoch 9/10\n",
            "625/625 [==============================] - 123s 197ms/step - loss: 0.0176 - accuracy: 0.9950 - val_loss: 1.1380 - val_accuracy: 0.8468\n",
            "Epoch 10/10\n",
            "625/625 [==============================] - 124s 199ms/step - loss: 0.0177 - accuracy: 0.9953 - val_loss: 1.0782 - val_accuracy: 0.8446\n"
          ]
        },
        {
          "output_type": "execute_result",
          "data": {
            "text/plain": [
              "<keras.src.callbacks.History at 0x789d47e81750>"
            ]
          },
          "metadata": {},
          "execution_count": 27
        }
      ]
    },
    {
      "cell_type": "code",
      "source": [
        "# Load the trained model\n",
        "model = tf.keras.models.load_model('/content/best_model.h5')\n",
        "\n",
        "# Evaluate the model on the training and validation data\n",
        "train_loss, train_accuracy = model.evaluate(X_train_padded, y_train, verbose=0)\n",
        "val_loss, val_accuracy = model.evaluate(X_test_padded, y_test, verbose=0)\n",
        "import matplotlib.pyplot as plt\n",
        "# Plot training and validation accuracy and loss\n",
        "plt.figure(figsize=(12, 4))\n",
        "\n",
        "# Plot accuracy\n",
        "plt.subplot(1, 2, 1)\n",
        "plt.bar(['Train Accuracy', 'Validation Accuracy'], [train_accuracy, val_accuracy])\n",
        "plt.title('Training and Validation Accuracy')\n",
        "plt.xlabel('Dataset')\n",
        "plt.ylabel('Accuracy')\n",
        "\n",
        "# Plot loss\n",
        "plt.subplot(1, 2, 2)\n",
        "plt.bar(['Train Loss', 'Validation Loss'], [train_loss, val_loss])\n",
        "plt.title('Training and Validation Loss')\n",
        "plt.xlabel('Dataset')\n",
        "plt.ylabel('Loss')\n",
        "\n",
        "plt.show()"
      ],
      "metadata": {
        "colab": {
          "base_uri": "https://localhost:8080/",
          "height": 410
        },
        "id": "pnqlUY2SGiLH",
        "outputId": "998ab6e9-4017-4da9-aa4e-f4a3068c8e6b"
      },
      "execution_count": 28,
      "outputs": [
        {
          "output_type": "display_data",
          "data": {
            "text/plain": [
              "<Figure size 1200x400 with 2 Axes>"
            ],
            "image/png": "[encoded data removed]"
          },
          "metadata": {}
        }
      ]
    }
  ]
}